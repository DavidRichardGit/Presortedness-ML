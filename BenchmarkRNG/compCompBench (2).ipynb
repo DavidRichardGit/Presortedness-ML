{
 "cells": [
  {
   "cell_type": "markdown",
   "metadata": {},
   "source": [
    "## Timsort vs other sorting algorithms (comparison complexity)"
   ]
  },
  {
   "cell_type": "code",
   "execution_count": 815,
   "metadata": {},
   "outputs": [],
   "source": [
    "import random\n",
    "import numpy as np\n",
    "import math\n",
    "\n",
    "random.seed(42)"
   ]
  },
  {
   "cell_type": "markdown",
   "metadata": {},
   "source": [
    "### Insertion sort"
   ]
  },
  {
   "cell_type": "code",
   "execution_count": 816,
   "metadata": {},
   "outputs": [],
   "source": [
    "def insertion_sort(A):\n",
    "    comparisons = 0\n",
    "    for i in range(1, len(A)):\n",
    "        key = A[i]\n",
    "        j = i - 1\n",
    "        comparisons += 1\n",
    "        while j >= 0 and A[j] > key:\n",
    "            comparisons += 1\n",
    "            A[j + 1] = A[j]\n",
    "            j -= 1\n",
    "        A[j + 1] = key\n",
    "    return A, comparisons"
   ]
  },
  {
   "cell_type": "markdown",
   "metadata": {},
   "source": [
    "### Selection sort"
   ]
  },
  {
   "cell_type": "code",
   "execution_count": 817,
   "metadata": {},
   "outputs": [],
   "source": [
    "def selection_sort(A):\n",
    "    comparisons = 0\n",
    "    n = len(A)\n",
    "    for i in range(n - 1):\n",
    "        min_index = i\n",
    "        for j in range(i + 1, n):\n",
    "            comparisons += 1\n",
    "            if A[j] < A[min_index]:\n",
    "                min_index = j\n",
    "        A[i], A[min_index] = A[min_index], A[i]\n",
    "    return A, comparisons"
   ]
  },
  {
   "cell_type": "markdown",
   "metadata": {},
   "source": [
    "### Merge sort"
   ]
  },
  {
   "cell_type": "code",
   "execution_count": 818,
   "metadata": {},
   "outputs": [],
   "source": [
    "def merge_sort(A):\n",
    "    if len(A) <= 1:\n",
    "        return A, 0\n",
    "    \n",
    "    mid = len(A) // 2\n",
    "    left_half = A[:mid]\n",
    "    right_half = A[mid:]\n",
    "    \n",
    "    left_half, left_comp = merge_sort(left_half)\n",
    "    right_half, right_comp = merge_sort(right_half)\n",
    "    \n",
    "    merged, merge_comp = merge(left_half, right_half)\n",
    "    \n",
    "    total_comp = merge_comp + left_comp + right_comp\n",
    "    \n",
    "    return merged, total_comp\n",
    "\n",
    "def merge(left, right):\n",
    "    merged = []\n",
    "    left_index, right_index = 0, 0\n",
    "    comparisons = 0\n",
    "    \n",
    "    while left_index < len(left) and right_index < len(right):\n",
    "        comparisons += 1\n",
    "        if left[left_index] < right[right_index]:\n",
    "            merged.append(left[left_index])\n",
    "            left_index += 1\n",
    "        else:\n",
    "            merged.append(right[right_index])\n",
    "            right_index += 1\n",
    "    \n",
    "    while left_index < len(left):\n",
    "        merged.append(left[left_index])\n",
    "        left_index += 1\n",
    "    while right_index < len(right):\n",
    "        merged.append(right[right_index])\n",
    "        right_index += 1\n",
    "    \n",
    "    return merged, comparisons"
   ]
  },
  {
   "cell_type": "markdown",
   "metadata": {},
   "source": [
    "### merge stackoverflow"
   ]
  },
  {
   "cell_type": "code",
   "execution_count": 819,
   "metadata": {},
   "outputs": [
    {
     "name": "stdout",
     "output_type": "stream",
     "text": [
      "([1, 2, 3, 4, 5, 8, 9, 10], 15)\n",
      "24\n"
     ]
    },
    {
     "data": {
      "text/plain": [
       "([1, 2, 3, 4, 5, 8, 9, 10], 16)"
      ]
     },
     "execution_count": 819,
     "metadata": {},
     "output_type": "execute_result"
    }
   ],
   "source": [
    "def mergesorter(A):\n",
    "    if len(A) <= 1:\n",
    "        return 0\n",
    "    mid = len(A) // 2\n",
    "    left = A[:mid]\n",
    "    right = A[mid:]\n",
    "\n",
    "    # Recursive call on each half\n",
    "    comparecount = mergesorter(left) + mergesorter(right)\n",
    "\n",
    "    # Two iterators for traversing the two halves\n",
    "    i = 0\n",
    "    j = 0\n",
    "    \n",
    "    # Iterator for the main list\n",
    "    k = 0\n",
    "    \n",
    "    while i < len(left) and j < len(right):\n",
    "        comparecount += 1\n",
    "        if left[i] <= right[j]:\n",
    "            # The value from the left half has been used\n",
    "            A[k] = left[i]\n",
    "            # Move the iterator forward\n",
    "            i += 1\n",
    "        else:\n",
    "            A[k] = right[j]\n",
    "            j += 1\n",
    "        # Move to the next slot\n",
    "        k += 1\n",
    "\n",
    "    # For all the remaining values\n",
    "    while i < len(left):\n",
    "        comparecount += 1\n",
    "        A[k] = left[i]\n",
    "        i += 1\n",
    "        k += 1\n",
    "\n",
    "    while j < len(right):\n",
    "        comparecount += 1\n",
    "        A[k]=right[j]\n",
    "        j += 1\n",
    "        k += 1\n",
    "\n",
    "    return comparecount\n",
    "\n",
    "print(merge_sort([2,5,4,3,8,9,1,10]))\n",
    "print(mergesorter([2,5,4,3,8,9,1,10]))\n",
    "insertion_sort([2,5,4,3,8,9,1,10])"
   ]
  },
  {
   "cell_type": "markdown",
   "metadata": {},
   "source": [
    "### Heap sort"
   ]
  },
  {
   "cell_type": "code",
   "execution_count": 820,
   "metadata": {},
   "outputs": [],
   "source": [
    "def heapify(A, n, i, comparisons):\n",
    "    largest = i\n",
    "    l = 2 * i + 1\n",
    "    r = 2 * i + 2\n",
    "\n",
    "    if l < n and A[l] > A[largest]:\n",
    "        largest = l\n",
    "        comparisons[0] += 1\n",
    "\n",
    "    if r < n and A[r] > A[largest]:\n",
    "        largest = r\n",
    "        comparisons[0] += 1\n",
    "\n",
    "    if largest != i:\n",
    "        A[i], A[largest] = A[largest], A[i]\n",
    "        heapify(A, n, largest, comparisons)\n",
    "\n",
    "def heap_sort(A):\n",
    "    comparisons = [0]\n",
    "    n = len(A)\n",
    "\n",
    "    for i in range(n // 2 - 1, -1, -1):\n",
    "        heapify(A, n, i, comparisons)\n",
    "\n",
    "    for i in range(n - 1, 0, -1):\n",
    "        A[i], A[0] = A[0], A[i]\n",
    "        heapify(A, i, 0, comparisons)\n",
    "\n",
    "    return A, comparisons[0]"
   ]
  },
  {
   "cell_type": "markdown",
   "metadata": {},
   "source": [
    "### Quicksort"
   ]
  },
  {
   "cell_type": "code",
   "execution_count": 821,
   "metadata": {},
   "outputs": [],
   "source": [
    "def quicksort(A):\n",
    "    comparisons = [0]\n",
    "    quickSorter(A, 0, len(A) - 1, comparisons)\n",
    "    return A, comparisons[0]\n",
    "\n",
    "def partition(A, low, high, comparisons):\n",
    "    pivot = A[high]\n",
    "    i = low - 1\n",
    "    for j in range(low, high):\n",
    "        comparisons[0] += 1\n",
    "        if A[j] <= pivot:\n",
    "            i += 1\n",
    "            A[i], A[j] = A[j], A[i]\n",
    "    A[i + 1], A[high] = A[high], A[i + 1]\n",
    "    return i + 1\n",
    "\n",
    "def quickSorter(A, low, high, comparisons):\n",
    "    if low < high:\n",
    "        pi = partition(A, low, high, comparisons)\n",
    "        quickSorter(A, low, pi - 1, comparisons)\n",
    "        quickSorter(A, pi + 1, high, comparisons)"
   ]
  },
  {
   "cell_type": "markdown",
   "metadata": {},
   "source": [
    "### Timsort"
   ]
  },
  {
   "cell_type": "code",
   "execution_count": 822,
   "metadata": {},
   "outputs": [],
   "source": [
    "MINIMUM = 32\n",
    "\n",
    "def find_minrun(n): \n",
    "    r = 0\n",
    "    while n >= MINIMUM: \n",
    "        r |= n & 1\n",
    "        n >>= 1\n",
    "    return n + r \n",
    "\n",
    "def tim_insertion_sort(array, left, right): \n",
    "    global comparisons\n",
    "    for i in range(left + 1, right + 1):\n",
    "        key = array[i]\n",
    "        j = i - 1\n",
    "        comparisons += 1\n",
    "        while j >= left and key < array[j]:\n",
    "            array[j + 1] = array[j]\n",
    "            j -= 1\n",
    "            comparisons += 1\n",
    "        array[j + 1] = key\n",
    "    return array\n",
    "              \n",
    "def tim_merge(array, l, m, r): \n",
    "    global comparisons\n",
    "    array_length1 = m - l + 1\n",
    "    array_length2 = r - m \n",
    "    left = []\n",
    "    right = []\n",
    "    for i in range(array_length1): \n",
    "        left.append(array[l + i]) \n",
    "    for i in range(array_length2): \n",
    "        right.append(array[m + 1 + i]) \n",
    "  \n",
    "    i = 0\n",
    "    j = 0\n",
    "    k = l\n",
    "   \n",
    "    while j < array_length2 and i < array_length1: \n",
    "        if left[i] <= right[j]: \n",
    "            array[k] = left[i] \n",
    "            i += 1\n",
    "        else: \n",
    "            array[k] = right[j] \n",
    "            j += 1\n",
    "        k += 1\n",
    "        comparisons += 1\n",
    "  \n",
    "    while i < array_length1: \n",
    "        array[k] = left[i] \n",
    "        k += 1\n",
    "        i += 1\n",
    "        comparisons += 1\n",
    "  \n",
    "    while j < array_length2: \n",
    "        array[k] = right[j] \n",
    "        k += 1\n",
    "        j += 1\n",
    "        comparisons += 1\n",
    "  \n",
    "def timsort(array): \n",
    "    n = len(array) \n",
    "    minrun = find_minrun(n) \n",
    "  \n",
    "    for start in range(0, n, minrun): \n",
    "        end = min(start + minrun - 1, n - 1) \n",
    "        tim_insertion_sort(array, start, end) \n",
    "   \n",
    "    size = minrun \n",
    "    while size < n: \n",
    "        for left in range(0, n, 2 * size): \n",
    "            mid = min(n - 1, left + size - 1) \n",
    "            right = min((left + 2 * size - 1), (n - 1)) \n",
    "            tim_merge(array, left, mid, right) \n",
    "        size = 2 * size\n",
    "\n",
    "    return array, comparisons"
   ]
  },
  {
   "cell_type": "markdown",
   "metadata": {},
   "source": [
    "### Introsort"
   ]
  },
  {
   "cell_type": "code",
   "execution_count": 823,
   "metadata": {},
   "outputs": [],
   "source": [
    "def introsort(arr):\n",
    "\n",
    "    def partition(arr, low, high):\n",
    "        pivot = arr[high]\n",
    "        i = low - 1\n",
    "        for j in range(low, high):\n",
    "            comparisons[0] += 1\n",
    "            if arr[j] <= pivot:\n",
    "                i += 1\n",
    "                arr[i], arr[j] = arr[j], arr[i]\n",
    "        arr[i + 1], arr[high] = arr[high], arr[i + 1]\n",
    "        return i + 1\n",
    "\n",
    "    def insertion_sort(arr, low, high):\n",
    "        for i in range(low + 1, high + 1):\n",
    "            key = arr[i]\n",
    "            j = i - 1\n",
    "            comparisons[0] += 1\n",
    "            while j >= low and arr[j] > key:\n",
    "                comparisons[0] += 1\n",
    "                arr[j + 1] = arr[j]\n",
    "                j -= 1\n",
    "            arr[j + 1] = key\n",
    "\n",
    "    def heap_sort(arr):\n",
    "        def heapify(arr, n, i):\n",
    "            largest = i\n",
    "            l = 2 * i + 1\n",
    "            r = 2 * i + 2\n",
    "\n",
    "            if l < n and arr[i] < arr[l]:\n",
    "                largest = l\n",
    "\n",
    "            if r < n and arr[largest] < arr[r]:\n",
    "                largest = r\n",
    "\n",
    "            if largest != i:\n",
    "                arr[i], arr[largest] = arr[largest], arr[i]\n",
    "                heapify(arr, n, largest)\n",
    "\n",
    "        n = len(arr)\n",
    "\n",
    "        for i in range(n // 2 - 1, -1, -1):\n",
    "            heapify(arr, n, i)\n",
    "\n",
    "        for i in range(n - 1, 0, -1):\n",
    "            arr[i], arr[0] = arr[0], arr[i]\n",
    "            heapify(arr, i, 0)\n",
    "\n",
    "    def introsort_util(arr, low, high, depth_limit):\n",
    "        size = high - low + 1\n",
    "\n",
    "        if size < 16:\n",
    "            insertion_sort(arr, low, high)\n",
    "            return\n",
    "\n",
    "        if depth_limit == 0:\n",
    "            heap_sort(arr)\n",
    "            return\n",
    "\n",
    "        pivot = partition(arr, low, high)\n",
    "\n",
    "        introsort_util(arr, low, pivot - 1, depth_limit - 1)\n",
    "        introsort_util(arr, pivot + 1, high, depth_limit - 1)\n",
    "\n",
    "    comparisons = [0]\n",
    "    introsort_util(arr, 0, len(arr) - 1, 2 * math.log(len(arr)))\n",
    "    return arr, comparisons[0]"
   ]
  },
  {
   "cell_type": "markdown",
   "metadata": {},
   "source": [
    "## Benchmarking"
   ]
  },
  {
   "cell_type": "code",
   "execution_count": 827,
   "metadata": {},
   "outputs": [
    {
     "name": "stdout",
     "output_type": "stream",
     "text": [
      "Average comparisons for selection sort: 499500.0\n",
      "Average comparisons for insertion sort: 250028.73\n",
      "Average comparisons for merge sort: 8707.59\n",
      "Average comparisons for merge sorter: 9976\n",
      "Average comparisons for heap sort: 11684.18\n",
      "Average comparisons for quicksort: 11111.56\n",
      "Average comparisons for timsort: 13662.47\n",
      "Average comparisons for introsort: 11659.94\n"
     ]
    }
   ],
   "source": [
    "iter = 100\n",
    "size = 1000\n",
    "\n",
    "def measure_comparisons(sort_function):\n",
    "    total_comparisons = 0\n",
    "    for _ in range(iter):\n",
    "        A = np.random.random((size))\n",
    "        global comparisons\n",
    "        comparisons = 0\n",
    "        _, comp = sort_function(A)\n",
    "        total_comparisons += comp\n",
    "\n",
    "    return total_comparisons / iter\n",
    "\n",
    "selection_sort_comparisons = measure_comparisons(selection_sort)\n",
    "print(\"Average comparisons for selection sort:\", selection_sort_comparisons)\n",
    "\n",
    "insertion_sort_comparisons = measure_comparisons(insertion_sort)\n",
    "print(\"Average comparisons for insertion sort:\", insertion_sort_comparisons)\n",
    "\n",
    "merge_sort_comparisons = measure_comparisons(merge_sort)\n",
    "print(\"Average comparisons for merge sort:\", merge_sort_comparisons)\n",
    "\n",
    "mergesorter_comparisons = mergesorter(np.random.random((size)))\n",
    "print(\"Average comparisons for merge sorter:\", mergesorter_comparisons)\n",
    "\n",
    "heap_sort_comparisons = measure_comparisons(heap_sort)\n",
    "print(\"Average comparisons for heap sort:\", heap_sort_comparisons)\n",
    "\n",
    "quicksort_comparisons = measure_comparisons(quicksort)\n",
    "print(\"Average comparisons for quicksort:\", quicksort_comparisons)\n",
    "\n",
    "timsort_comparisons = measure_comparisons(timsort)\n",
    "print(\"Average comparisons for timsort:\", timsort_comparisons)\n",
    "\n",
    "introsort_comparisons = measure_comparisons(introsort)\n",
    "print(\"Average comparisons for introsort:\", introsort_comparisons)"
   ]
  }
 ],
 "metadata": {
  "kernelspec": {
   "display_name": "Python 3",
   "language": "python",
   "name": "python3"
  },
  "language_info": {
   "codemirror_mode": {
    "name": "ipython",
    "version": 3
   },
   "file_extension": ".py",
   "mimetype": "text/x-python",
   "name": "python",
   "nbconvert_exporter": "python",
   "pygments_lexer": "ipython3",
   "version": "3.11.0"
  }
 },
 "nbformat": 4,
 "nbformat_minor": 2
}
