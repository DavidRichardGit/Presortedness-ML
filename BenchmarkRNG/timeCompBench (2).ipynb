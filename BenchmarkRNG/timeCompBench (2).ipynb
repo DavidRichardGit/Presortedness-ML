{
 "cells": [
  {
   "cell_type": "markdown",
   "metadata": {},
   "source": [
    "# Timsort vs other sorting algorithms (time complexity)"
   ]
  },
  {
   "cell_type": "code",
   "execution_count": 1,
   "metadata": {},
   "outputs": [],
   "source": [
    "import time\n",
    "import numpy as np\n",
    "import random\n",
    "\n",
    "random.seed(42)"
   ]
  },
  {
   "cell_type": "markdown",
   "metadata": {},
   "source": [
    "## Simple sorts\n",
    "Even though they have an average time complexity of O(n^2) these algorithms are used a lot for educational purposes. Insertion sort is used in practice for small arrays because of low overhead."
   ]
  },
  {
   "cell_type": "markdown",
   "metadata": {},
   "source": [
    "### Insertion sort"
   ]
  },
  {
   "cell_type": "code",
   "execution_count": 2,
   "metadata": {},
   "outputs": [],
   "source": [
    "def insertion_sort(A):\n",
    "    for i in range(1, len(A)):\n",
    "        key = A[i]\n",
    "        j = i - 1\n",
    "        while j >= 0 and A[j] > key:\n",
    "            A[j + 1] = A[j]\n",
    "            j -= 1\n",
    "        A[j + 1] = key\n",
    "    return A"
   ]
  },
  {
   "cell_type": "markdown",
   "metadata": {},
   "source": [
    "### Selection sort"
   ]
  },
  {
   "cell_type": "code",
   "execution_count": 3,
   "metadata": {},
   "outputs": [],
   "source": [
    "def selection_sort(A):\n",
    "    n = len(A)\n",
    "    for i in range(n - 1):\n",
    "        min_index = i\n",
    "        for j in range(i + 1, n):\n",
    "            if A[j] < A[min_index]:\n",
    "                min_index = j\n",
    "        A[i], A[min_index] = A[min_index], A[i]\n",
    "    return A"
   ]
  },
  {
   "cell_type": "markdown",
   "metadata": {},
   "source": [
    "## Efficient sorts\n",
    "These algorithms are asymptoticallly efficient on random data, with a time complexity of O(n log n)."
   ]
  },
  {
   "cell_type": "markdown",
   "metadata": {},
   "source": [
    "### Merge sort"
   ]
  },
  {
   "cell_type": "code",
   "execution_count": 4,
   "metadata": {},
   "outputs": [],
   "source": [
    "def merge_sort(A):\n",
    "    if len(A) <= 1:\n",
    "        return A\n",
    "    \n",
    "    mid = len(A) // 2\n",
    "    left_half = A[:mid]\n",
    "    right_half = A[mid:]\n",
    "\n",
    "    left_half = merge_sort(left_half)\n",
    "    right_half = merge_sort(right_half)\n",
    "    \n",
    "    return merge(left_half, right_half)\n",
    "\n",
    "def merge(left, right):\n",
    "    merged = []\n",
    "    left_index, right_index = 0, 0\n",
    "    \n",
    "    while left_index < len(left) and right_index < len(right):\n",
    "\n",
    "        if left[left_index] < right[right_index]:\n",
    "            merged.append(left[left_index])\n",
    "            left_index += 1\n",
    "        else:\n",
    "            merged.append(right[right_index])\n",
    "            right_index += 1\n",
    "    \n",
    "    while left_index < len(left):\n",
    "        merged.append(left[left_index])\n",
    "        left_index += 1\n",
    "    while right_index < len(right):\n",
    "        merged.append(right[right_index])\n",
    "        right_index += 1\n",
    "    \n",
    "    return merged"
   ]
  },
  {
   "cell_type": "markdown",
   "metadata": {},
   "source": [
    "### Heap sort"
   ]
  },
  {
   "cell_type": "code",
   "execution_count": 5,
   "metadata": {},
   "outputs": [],
   "source": [
    "def heapify(A, n, i):\n",
    "    largest = i\n",
    "    l = 2 * i + 1\n",
    "    r = 2 * i + 2\n",
    "\n",
    "    if l < n and A[l] > A[largest]:\n",
    "        largest = l\n",
    "\n",
    "    if r < n and A[r] > A[largest]:\n",
    "        largest = r\n",
    "\n",
    "    if largest != i:\n",
    "        A[i], A[largest] = A[largest], A[i]\n",
    "        heapify(A, n, largest)\n",
    "\n",
    "def heap_sort(A):\n",
    "    n = len(A)\n",
    "\n",
    "    for i in range(n // 2 - 1, -1, -1):\n",
    "        heapify(A, n, i)\n",
    "\n",
    "    for i in range(n - 1, 0, -1):\n",
    "        A[i], A[0] = A[0], A[i]\n",
    "        heapify(A, i, 0)\n",
    "\n",
    "    return A"
   ]
  },
  {
   "cell_type": "markdown",
   "metadata": {},
   "source": [
    "### Quicksort"
   ]
  },
  {
   "cell_type": "code",
   "execution_count": 6,
   "metadata": {},
   "outputs": [],
   "source": [
    "def quicksort(A):\n",
    "    quickSorter(A,0,len(A)-1)\n",
    "\n",
    "def partition(A, low, high):\n",
    "    pivot = A[high]\n",
    "    i = low - 1\n",
    "    for j in range(low, high):\n",
    "        if A[j] <= pivot:\n",
    "            i = i + 1\n",
    "            (A[i], A[j]) = (A[j], A[i])\n",
    "    (A[i + 1], A[high]) = (A[high], A[i + 1])\n",
    "    return i + 1\n",
    "\n",
    "def quickSorter(A, low, high):\n",
    "    if low < high:\n",
    "        pi = partition(A, low, high)\n",
    "        quickSorter(A, low, pi - 1)\n",
    "        quickSorter(A, pi + 1, high)"
   ]
  },
  {
   "cell_type": "markdown",
   "metadata": {},
   "source": [
    "## Mixed sorting algorithms\n",
    "These sorting algorithms make use of different strengths of individual algorithms by combining them into one."
   ]
  },
  {
   "cell_type": "markdown",
   "metadata": {},
   "source": [
    "### Timsort\n",
    "Combination of merge sort and insertion sort"
   ]
  },
  {
   "cell_type": "code",
   "execution_count": 7,
   "metadata": {},
   "outputs": [],
   "source": [
    "MINIMUM= 32\n",
    "  \n",
    "def find_minrun(n): \n",
    "  \n",
    "    r = 0\n",
    "    while n >= MINIMUM: \n",
    "        r |= n & 1\n",
    "        n >>= 1\n",
    "    return n + r \n",
    "  \n",
    "def tim_insertion_sort(array, left, right): \n",
    "    for i in range(left+1,right+1):\n",
    "        element = array[i]\n",
    "        j = i-1\n",
    "        while element<array[j] and j>=left :\n",
    "            array[j+1] = array[j]\n",
    "            j -= 1\n",
    "        array[j+1] = element\n",
    "    return array\n",
    "              \n",
    "def tim_merge(array, l, m, r): \n",
    "  \n",
    "    array_length1= m - l + 1\n",
    "    array_length2 = r - m \n",
    "    left = []\n",
    "    right = []\n",
    "    for i in range(0, array_length1): \n",
    "        left.append(array[l + i]) \n",
    "    for i in range(0, array_length2): \n",
    "        right.append(array[m + 1 + i]) \n",
    "  \n",
    "    i=0\n",
    "    j=0\n",
    "    k=l\n",
    "   \n",
    "    while j < array_length2 and  i < array_length1: \n",
    "        if left[i] <= right[j]: \n",
    "            array[k] = left[i] \n",
    "            i += 1\n",
    "  \n",
    "        else: \n",
    "            array[k] = right[j] \n",
    "            j += 1\n",
    "  \n",
    "        k += 1\n",
    "  \n",
    "    while i < array_length1: \n",
    "        array[k] = left[i] \n",
    "        k += 1\n",
    "        i += 1\n",
    "  \n",
    "    while j < array_length2: \n",
    "        array[k] = right[j] \n",
    "        k += 1\n",
    "        j += 1\n",
    "  \n",
    "def tim_sort(array): \n",
    "    n = len(array) \n",
    "    minrun = find_minrun(n) \n",
    "  \n",
    "    for start in range(0, n, minrun): \n",
    "        end = min(start + minrun - 1, n - 1) \n",
    "        tim_insertion_sort(array, start, end) \n",
    "   \n",
    "    size = minrun \n",
    "    while size < n: \n",
    "  \n",
    "        for left in range(0, n, 2 * size): \n",
    "  \n",
    "            mid = min(n - 1, left + size - 1) \n",
    "            right = min((left + 2 * size - 1), (n - 1)) \n",
    "            tim_merge(array, left, mid, right) \n",
    "  \n",
    "        size = 2 * size"
   ]
  },
  {
   "cell_type": "markdown",
   "metadata": {},
   "source": [
    "### Introsort\n",
    "Combination of quicksort heapsort and insertion sort"
   ]
  },
  {
   "cell_type": "code",
   "execution_count": 8,
   "metadata": {},
   "outputs": [],
   "source": [
    "def introsort(A):\n",
    "    maxdepth = (len(A).bit_length() - 1) * 2\n",
    "    introsort_helper(A, 0, len(A), maxdepth)\n",
    " \n",
    "def introsort_helper(A, start, end, maxdepth):\n",
    "    if end - start <= 1:\n",
    "        return\n",
    "    elif maxdepth == 0:\n",
    "        heapsort(A, start, end)\n",
    "    else:\n",
    "        p = partition(A, start, end)\n",
    "        introsort_helper(A, start, p + 1, maxdepth - 1)\n",
    "        introsort_helper(A, p + 1, end, maxdepth - 1)\n",
    " \n",
    "        if maxdepth > 0:\n",
    "            if p - start < 16:\n",
    "                intro_insertion_sort(A, start, p)\n",
    "            if end - (p + 1) < 16:\n",
    "                intro_insertion_sort(A, p + 1, end)\n",
    " \n",
    "def partition(A, start, end):\n",
    "    pivot = A[start]\n",
    "    i = start - 1\n",
    "    j = end\n",
    " \n",
    "    while True:\n",
    "        i = i + 1\n",
    "        while A[i] < pivot:\n",
    "            i = i + 1\n",
    "        j = j - 1\n",
    "        while A[j] > pivot:\n",
    "            j = j - 1\n",
    " \n",
    "        if i >= j:\n",
    "            return j\n",
    " \n",
    "        swap(A, i, j)\n",
    " \n",
    "def swap(A, i, j):\n",
    "    A[i], A[j] = A[j], A[i]\n",
    " \n",
    "def heapsort(A, start, end):\n",
    "    build_max_heap(A, start, end)\n",
    "    for i in range(end - 1, start, -1):\n",
    "        swap(A, start, i)\n",
    "        max_heapify(A, index=0, start=start, end=i)\n",
    " \n",
    "def build_max_heap(A, start, end):\n",
    "    def parent(i):\n",
    "        return (i - 1) // 2\n",
    "    length = end - start\n",
    "    index = parent(length - 1)\n",
    "    while index >= 0:\n",
    "        max_heapify(A, index, start, end)\n",
    "        index = index - 1\n",
    " \n",
    "def max_heapify(A, index, start, end):\n",
    "    def left(i):\n",
    "        return 2 * i + 1\n",
    "    def right(i):\n",
    "        return 2 * i + 2\n",
    " \n",
    "    size = end - start\n",
    "    l = left(index)\n",
    "    r = right(index)\n",
    "    if (l < size and A[start + l] > A[start + index]):\n",
    "        largest = l\n",
    "    else:\n",
    "        largest = index\n",
    "    if (r < size and A[start + r] > A[start + largest]):\n",
    "        largest = r\n",
    "    if largest != index:\n",
    "        swap(A, start + largest, start + index)\n",
    "        max_heapify(A, largest, start, end)\n",
    "\n",
    "def intro_insertion_sort(arr, low, high):\n",
    "    for i in range(low + 1, high):\n",
    "        key = arr[i]\n",
    "        j = i - 1\n",
    "        while j >= low and arr[j] > key:\n",
    "            arr[j + 1] = arr[j]\n",
    "            j -= 1\n",
    "        arr[j + 1] = key"
   ]
  },
  {
   "cell_type": "markdown",
   "metadata": {},
   "source": [
    "## Benchmarking"
   ]
  },
  {
   "cell_type": "code",
   "execution_count": 9,
   "metadata": {},
   "outputs": [
    {
     "name": "stdout",
     "output_type": "stream",
     "text": [
      "Average time for selection sort: 81.01679000101285 ms \n",
      "\n",
      "Average time for insertion sort: 58.093770000414224 ms \n",
      "\n",
      "Average time for merge sort: 1.9036800003959797 ms \n",
      "\n",
      "Average time for heap sort: 6.504699999641161 ms \n",
      "\n",
      "Average time for quicksort: 2.2511100003612228 ms \n",
      "\n",
      "Average time for timsort: 3.7079300011100713 ms \n",
      "\n",
      "Average time for introsort: 3.7578399998892564 ms \n",
      "\n"
     ]
    }
   ],
   "source": [
    "iter = 10\n",
    "array_size = 1000\n",
    "\n",
    "def measure_execution_time(sort_function):\n",
    "    total_time = 0\n",
    "    for i in range(iter):\n",
    "        A = np.random.random((array_size))\n",
    "        start = time.perf_counter()\n",
    "        sort_function(A)\n",
    "        end = time.perf_counter()\n",
    "        total_time += (end - start)\n",
    "    \n",
    "    return (total_time * 1000) / iter\n",
    "\n",
    "selection_sort_time = measure_execution_time(selection_sort)\n",
    "print(\"Average time for selection sort:\", selection_sort_time, \"ms \\n\")\n",
    "\n",
    "insertion_sort_time = measure_execution_time(insertion_sort)\n",
    "print(\"Average time for insertion sort:\", insertion_sort_time, \"ms \\n\")\n",
    "\n",
    "merge_sort_time = measure_execution_time(merge_sort)\n",
    "print(\"Average time for merge sort:\", merge_sort_time, \"ms \\n\")\n",
    "\n",
    "heap_sort_time = measure_execution_time(heap_sort)\n",
    "print(\"Average time for heap sort:\", heap_sort_time, \"ms \\n\")\n",
    "\n",
    "quicksort_time = measure_execution_time(quicksort)\n",
    "print(\"Average time for quicksort:\", quicksort_time, \"ms \\n\")\n",
    "\n",
    "tim_sort_time = measure_execution_time(tim_sort)\n",
    "print(\"Average time for timsort:\", tim_sort_time, \"ms \\n\")\n",
    "\n",
    "intro_sort_time = measure_execution_time(introsort)\n",
    "print(\"Average time for introsort:\", intro_sort_time, \"ms \\n\")"
   ]
  }
 ],
 "metadata": {
  "kernelspec": {
   "display_name": "Python 3",
   "language": "python",
   "name": "python3"
  },
  "language_info": {
   "codemirror_mode": {
    "name": "ipython",
    "version": 3
   },
   "file_extension": ".py",
   "mimetype": "text/x-python",
   "name": "python",
   "nbconvert_exporter": "python",
   "pygments_lexer": "ipython3",
   "version": "3.11.0"
  }
 },
 "nbformat": 4,
 "nbformat_minor": 2
}
