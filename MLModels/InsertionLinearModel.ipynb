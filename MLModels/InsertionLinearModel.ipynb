{
 "cells": [
  {
   "cell_type": "markdown",
   "metadata": {},
   "source": [
    "## SORTS"
   ]
  },
  {
   "cell_type": "markdown",
   "metadata": {},
   "source": [
    "### Insertion sort comparison count"
   ]
  },
  {
   "cell_type": "code",
   "execution_count": 31,
   "metadata": {},
   "outputs": [],
   "source": [
    "def insertion_comparisons(A):\n",
    "    x=0\n",
    "    for i in range(1, len(A)):\n",
    "        key = A[i]\n",
    "        j = i - 1\n",
    "        x += 1\n",
    "        while j >= 0 and A[j] > key:\n",
    "            x += 1\n",
    "            A[j + 1] = A[j]\n",
    "            j -= 1\n",
    "        A[j + 1] = key\n",
    "    return x, A"
   ]
  },
  {
   "cell_type": "markdown",
   "metadata": {},
   "source": [
    "## PRESORTEDNESS"
   ]
  },
  {
   "cell_type": "markdown",
   "metadata": {},
   "source": [
    "### Number of Runs\n",
    "The number of runs, is the number of increasing sequences in an array minus one."
   ]
  },
  {
   "cell_type": "code",
   "execution_count": 32,
   "metadata": {},
   "outputs": [
    {
     "name": "stdout",
     "output_type": "stream",
     "text": [
      "0\n"
     ]
    }
   ],
   "source": [
    "def runs(arr):\n",
    "    count = 0\n",
    "\n",
    "    for key in range(1,len(arr)):\n",
    "        if arr[key] < arr[key-1]:\n",
    "            count += 1\n",
    "\n",
    "    return count\n",
    "\n",
    "arr = [3, 4, 4, 7]\n",
    "print(runs(arr))"
   ]
  },
  {
   "cell_type": "markdown",
   "metadata": {},
   "source": [
    "### Number of Deletions\n",
    "minimum number of elements that need to be removed from array to obtain a sorted sequence."
   ]
  },
  {
   "cell_type": "code",
   "execution_count": 33,
   "metadata": {},
   "outputs": [
    {
     "name": "stdout",
     "output_type": "stream",
     "text": [
      "0\n"
     ]
    }
   ],
   "source": [
    "def deletions(arr):\n",
    "    def ceil_index(sub, val):\n",
    "        l, r = 0, len(sub)-1\n",
    "        while l <= r:\n",
    "            mid = (l + r) // 2\n",
    "            if sub[mid] >= val:\n",
    "                r = mid - 1\n",
    "            else:\n",
    "                l = mid + 1\n",
    "        return l\n",
    " \n",
    "    sub = [arr[0]]\n",
    "    for i in range(1, len(arr)):\n",
    "        if arr[i] >= sub[-1]:\n",
    "            sub.append(arr[i])\n",
    "        else:\n",
    "            sub[ceil_index(sub, arr[i])] = arr[i]\n",
    " \n",
    "    return len(arr) - len(sub)\n",
    "\n",
    "arr = [3, 4, 5, 7]\n",
    "print(deletions(arr))"
   ]
  },
  {
   "cell_type": "markdown",
   "metadata": {},
   "source": [
    "### Number of Inversions\n",
    "The number of inversion in an array, is the number of pairs j < key such that arr[j] > key."
   ]
  },
  {
   "cell_type": "code",
   "execution_count": 34,
   "metadata": {},
   "outputs": [
    {
     "name": "stdout",
     "output_type": "stream",
     "text": [
      "0\n"
     ]
    }
   ],
   "source": [
    "def inversions(arr):\n",
    "    count = 0\n",
    "\n",
    "    for key in range(len(arr)):\n",
    "        for j in range(key):\n",
    "            if arr[key] < arr[j]:\n",
    "                count += 1\n",
    "\n",
    "    return count\n",
    "\n",
    "arr = [3, 4, 4, 7]\n",
    "print(inversions(arr))"
   ]
  },
  {
   "cell_type": "markdown",
   "metadata": {},
   "source": [
    "## Setup and Dataset import/cleaning"
   ]
  },
  {
   "cell_type": "code",
   "execution_count": 35,
   "metadata": {},
   "outputs": [
    {
     "name": "stdout",
     "output_type": "stream",
     "text": [
      "amount of dataframes imported:\n",
      "15\n"
     ]
    }
   ],
   "source": [
    "import os\n",
    "import numpy as np\n",
    "import pandas as pd\n",
    "import matplotlib.pyplot as plt\n",
    "os.getcwd()\n",
    "\n",
    "dataset_directory = './kaggledatasets'\n",
    "dataset_dfs = {}\n",
    "\n",
    "# import files in the directory\n",
    "for file_name in os.listdir(dataset_directory):\n",
    "        dataset_name = os.path.splitext(file_name)[0]\n",
    "        dataset_dfs[dataset_name] = pd.read_csv(os.path.join(dataset_directory, file_name))\n",
    "\n",
    "print(\"amount of dataframes imported:\")\n",
    "print(len(dataset_dfs))\n",
    "\n",
    "for key, df in dataset_dfs.items():\n",
    "    for column in df.columns:\n",
    "        if not df[column].apply(lambda x: isinstance(x, (int, float))).all():\n",
    "            df.drop(column, axis=1, inplace=True)\n",
    "            \n",
    "    dataset_dfs[key] = df.dropna().head(30)\n"
   ]
  },
  {
   "cell_type": "markdown",
   "metadata": {},
   "source": [
    "## Sorting and training set creation"
   ]
  },
  {
   "cell_type": "code",
   "execution_count": 36,
   "metadata": {},
   "outputs": [
    {
     "name": "stdout",
     "output_type": "stream",
     "text": [
      "3481324860\n",
      "                           Dataset                  Column  Comparisons  Runs  \\\n",
      "0               amazon_kitchenware                   stars          224    12   \n",
      "1               amazon_kitchenware            reviewsCount          329    14   \n",
      "2               amazon_kitchenware             price/value          247    12   \n",
      "3                 Cartoon_datasets                  Rating          278    16   \n",
      "4                    freedom_index              Unnamed: 0           29     0   \n",
      "5                    freedom_index                    Year           29     0   \n",
      "6                    freedom_index           Overall Score          458    24   \n",
      "7                    freedom_index         Property Rights          307    18   \n",
      "8                    freedom_index    Government Integrity          336    15   \n",
      "9                    freedom_index  Judicial Effectiveness          323    15   \n",
      "10                   freedom_index              Tax Burden          233    15   \n",
      "11                   freedom_index     Government Spending          261    14   \n",
      "12                   freedom_index           Fiscal Health          342    18   \n",
      "13                   freedom_index        Business Freedom          349    12   \n",
      "14                   freedom_index           Labor Freedom          285    15   \n",
      "15                   freedom_index        Monetary Freedom          278    14   \n",
      "16                   freedom_index           Trade Freedom          252    12   \n",
      "17                   freedom_index      Investment Freedom          307    13   \n",
      "18                   freedom_index       Financial Freedom          229    10   \n",
      "19  healthcare-dataset-stroke-data                      id          231    17   \n",
      "20  healthcare-dataset-stroke-data                     age          243    14   \n",
      "21  healthcare-dataset-stroke-data            hypertension          116     8   \n",
      "22  healthcare-dataset-stroke-data           heart_disease          137     8   \n",
      "23  healthcare-dataset-stroke-data       avg_glucose_level          232    13   \n",
      "24  healthcare-dataset-stroke-data                     bmi          262    14   \n",
      "25  healthcare-dataset-stroke-data                  stroke           29     0   \n",
      "26                     icc_fb_page                comments          296    15   \n",
      "27                     icc_fb_page                   likes          275    15   \n",
      "28                     icc_fb_page                  shares          252    11   \n",
      "29                   moneyworks4me                   sr-no           29     0   \n",
      "30                   moneyworks4me                     cmp          464    29   \n",
      "31                   moneyworks4me                     P/E          242    16   \n",
      "32                   moneyworks4me                    P/BV          195    16   \n",
      "33                   moneyworks4me                   sales          223    20   \n",
      "34                   moneyworks4me                  profit          243    17   \n",
      "35   oldies_60s_top_artists_tracks              Popularity          317    15   \n",
      "36   oldies_60s_top_artists_tracks           Duration (ms)          279    17   \n",
      "37                Online-eCommerce            Order_Number           29     0   \n",
      "38                Online-eCommerce                    Cost          247    16   \n",
      "39                Online-eCommerce                   Sales          247    16   \n",
      "40                Online-eCommerce                Quantity          173    13   \n",
      "41                Online-eCommerce              Total_Cost          238    13   \n",
      "42                Online-eCommerce             Total_Sales          238    13   \n",
      "43               pizza_hut_reviews                   stars          116     6   \n",
      "44                   Shopping_data              CustomerID           29     0   \n",
      "45                   Shopping_data                     Age          181    14   \n",
      "46                   Shopping_data      Annual Income (k$)           29     0   \n",
      "47                   Shopping_data  Spending Score (1-100)          238    14   \n",
      "48                  uae_properties                      id          234    13   \n",
      "49                  uae_properties               bathrooms           29     0   \n",
      "50                  uae_properties                bedrooms          112     5   \n",
      "51                  uae_properties                    rera          203    12   \n",
      "52                  uae_properties                   price          262    16   \n",
      "53        yt_sports_channels_stats             video_count          252    14   \n",
      "54        yt_sports_channels_stats              view_count          259    14   \n",
      "55        yt_sports_channels_stats        subscriber_count          297    17   \n",
      "\n",
      "    Inversions  Deletions  \n",
      "0          195         22  \n",
      "1          300         24  \n",
      "2          218         22  \n",
      "3          249         22  \n",
      "4            0          0  \n",
      "5            0          0  \n",
      "6          429         27  \n",
      "7          278         23  \n",
      "8          307         23  \n",
      "9          294         24  \n",
      "10         204         21  \n",
      "11         232         22  \n",
      "12         313         25  \n",
      "13         320         24  \n",
      "14         256         23  \n",
      "15         249         22  \n",
      "16         223         25  \n",
      "17         278         25  \n",
      "18         200         21  \n",
      "19         202         22  \n",
      "20         214         22  \n",
      "21          87         18  \n",
      "22         108         20  \n",
      "23         203         21  \n",
      "24         233         22  \n",
      "25           0          0  \n",
      "26         267         23  \n",
      "27         246         23  \n",
      "28         223         20  \n",
      "29           0          0  \n",
      "30         435         29  \n",
      "31         213         23  \n",
      "32         166         20  \n",
      "33         194         24  \n",
      "34         214         21  \n",
      "35         288         23  \n",
      "36         250         23  \n",
      "37           0          0  \n",
      "38         218         23  \n",
      "39         218         23  \n",
      "40         144         21  \n",
      "41         209         21  \n",
      "42         209         21  \n",
      "43          87          7  \n",
      "44           0          0  \n",
      "45         152         21  \n",
      "46           0          0  \n",
      "47         209         21  \n",
      "48         205         21  \n",
      "49           0          0  \n",
      "50          83          7  \n",
      "51         174         18  \n",
      "52         233         22  \n",
      "53         223         22  \n",
      "54         230         22  \n",
      "55         268         23  \n"
     ]
    }
   ],
   "source": [
    "results = []\n",
    "\n",
    "\n",
    "print(df.iloc[5,1])\n",
    "\n",
    "for key, df in dataset_dfs.items():\n",
    "    for column in df.columns:\n",
    "        arr = df[column].values\n",
    "        runs_val = runs(arr)\n",
    "        inversions_val = inversions(arr)\n",
    "        deletions_val = deletions(arr)\n",
    "        comp, _ = insertion_comparisons(arr)\n",
    "\n",
    "        results.append({\n",
    "            'Dataset': key,\n",
    "            'Column': column,\n",
    "            'Comparisons': comp,\n",
    "            'Runs': runs_val,\n",
    "            'Inversions': inversions_val,\n",
    "            'Deletions': deletions_val\n",
    "        })\n",
    "\n",
    "df_results = pd.DataFrame(results)\n",
    "print(df_results)"
   ]
  },
  {
   "cell_type": "markdown",
   "metadata": {},
   "source": [
    "## Linear Regression model\n",
    "\n",
    "The Presortedness metric \"Inversions\" equals to the amount of comparisons insertion sort requires minus 29 (n-1, because \"Inversions\" doesn't have to verify with a comparison that the position of an element is correct).\n",
    "\n",
    "Therefore a linear regression model can perfectly predict how many comparison insertion sort will need.\n",
    "\n",
    "But even if we remove the Inversion metric from the features we can accurately predict the amount of comparisons needed."
   ]
  },
  {
   "cell_type": "code",
   "execution_count": 37,
   "metadata": {},
   "outputs": [
    {
     "name": "stdout",
     "output_type": "stream",
     "text": [
      "Mean Squared Error with inversions: 2.6253290925755273e-27\n",
      "Mean Absolute Error with inversions: 3.0790185216271006e-14\n",
      "Coefficients: [-1.38803070e-14  1.00000000e+00  2.34534614e-15]\n",
      "Intercept: 28.99999999999997\n",
      "\n",
      "\n",
      "Mean Squared Error: 2422.0382395328256\n",
      "Mean Absolute Error: 32.6874654308263\n",
      "Coefficients: [11.27764925  3.63507379]\n",
      "Intercept: 17.684493395612748\n"
     ]
    }
   ],
   "source": [
    "from sklearn.model_selection import train_test_split\n",
    "from sklearn.metrics import mean_squared_error\n",
    "from sklearn.metrics import mean_absolute_error\n",
    "from sklearn.linear_model import LinearRegression\n",
    "\n",
    "# features with inversions and without inversions\n",
    "X_inv = df_results[['Runs',  'Inversions', 'Deletions']]\n",
    "X = df_results[['Runs', 'Deletions']]\n",
    "\n",
    "y = df_results['Comparisons']\n",
    "\n",
    "# Split the dataset into training and testing sets\n",
    "X_train_inv, X_test_inv, y_train_inv, y_test_inv = train_test_split(X_inv, y, test_size=0.2, random_state=42)\n",
    "X_train, X_test, y_train, y_test = train_test_split(X, y, test_size=0.2, random_state=42)\n",
    "\n",
    "model_inv = LinearRegression()\n",
    "model_inv.fit(X_train_inv, y_train_inv)\n",
    "model = LinearRegression()\n",
    "model.fit(X_train, y_train)\n",
    "\n",
    "# Evaluate the model with inversions and without\n",
    "y_pred_inv = model_inv.predict(X_test_inv)\n",
    "mse_inv = mean_squared_error(y_test_inv, y_pred_inv)\n",
    "print(\"Mean Squared Error with inversions:\", mse_inv)\n",
    "mae_inv = mean_absolute_error(y_test_inv, y_pred_inv)\n",
    "print(\"Mean Absolute Error with inversions:\", mae_inv)\n",
    "print(\"Coefficients:\", model_inv.coef_)\n",
    "print(\"Intercept:\", model_inv.intercept_)\n",
    "print(\"\\n\")\n",
    "\n",
    "y_pred = model.predict(X_test)\n",
    "mse = mean_squared_error(y_test, y_pred)\n",
    "print(\"Mean Squared Error:\", mse)\n",
    "mae = mean_absolute_error(y_test, y_pred)\n",
    "print(\"Mean Absolute Error:\", mae)\n",
    "print(\"Coefficients:\", model.coef_)\n",
    "print(\"Intercept:\", model.intercept_)"
   ]
  }
 ],
 "metadata": {
  "kernelspec": {
   "display_name": "base",
   "language": "python",
   "name": "python3"
  },
  "language_info": {
   "codemirror_mode": {
    "name": "ipython",
    "version": 3
   },
   "file_extension": ".py",
   "mimetype": "text/x-python",
   "name": "python",
   "nbconvert_exporter": "python",
   "pygments_lexer": "ipython3",
   "version": "3.11.0"
  }
 },
 "nbformat": 4,
 "nbformat_minor": 2
}
